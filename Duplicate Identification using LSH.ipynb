{
 "cells": [
  {
   "cell_type": "markdown",
   "id": "5dda94fd",
   "metadata": {},
   "source": [
    "## LSH For Disney Names Matching"
   ]
  },
  {
   "cell_type": "markdown",
   "id": "b5818375",
   "metadata": {},
   "source": [
    "### Functions"
   ]
  },
  {
   "cell_type": "code",
   "execution_count": 1,
   "id": "6d07d311",
   "metadata": {},
   "outputs": [],
   "source": [
    "import logging\n",
    "import pandas as pd\n",
    "import argparse\n",
    "import timeit\n",
    "from datasketch import MinHash, MinHashLSH\n",
    "from nltk import ngrams\n",
    "from datetime import date, timedelta\n",
    "import numpy as np"
   ]
  },
  {
   "cell_type": "code",
   "execution_count": 2,
   "id": "5da09e9c",
   "metadata": {},
   "outputs": [],
   "source": [
    "logging.basicConfig(level=logging.INFO, format='%(asctime)s - %(levelname)s - %(name)s - %(message)s')\n",
    "logger = logging.getLogger(__name__ + '.vaq')"
   ]
  },
  {
   "cell_type": "code",
   "execution_count": 3,
   "id": "c979f0b7",
   "metadata": {},
   "outputs": [],
   "source": [
    "def load_data():\n",
    "    \"\"\"\n",
    "    Reads data from Excel file\n",
    "    \"\"\"\n",
    "    df = pd.read_excel(\"disney_characters.xlsx\")\n",
    "    \n",
    "    return df"
   ]
  },
  {
   "cell_type": "code",
   "execution_count": 4,
   "id": "6671dd34",
   "metadata": {},
   "outputs": [],
   "source": [
    "def clean_data(df):\n",
    "    \"\"\"\n",
    "    Cleans up string columns. Names should only contain letters.\n",
    "    :param df: dataframe with Disney character names\n",
    "    \"\"\"\n",
    "\n",
    "    logger = logging.getLogger(__name__ + '.clean_data')\n",
    "\n",
    "    starttime = timeit.default_timer()\n",
    "\n",
    "    df['local_name_clean'] = df.local_name.str.replace('[^a-zA-Z]', '', regex=True).str.lower()\n",
    "   \n",
    "    logger.info(f\"Cleaning done after {round(timeit.default_timer() - starttime, 2)} s\")"
   ]
  },
  {
   "cell_type": "code",
   "execution_count": 5,
   "id": "62758488",
   "metadata": {},
   "outputs": [],
   "source": [
    "def minhash_data(df_column, threshold, num_perm, weights, nr_ngrams):\n",
    "    \"\"\"\n",
    "    Performs hashing of columns using MinHash\n",
    "    :param df_column: column to hash\n",
    "    :param threshold: Jaccard distance threshold\n",
    "    :param num_perm: number of permutations\n",
    "    :param weights: false positive and false negative weights\n",
    "    :param nr_ngrams: shingle size\n",
    "    :return: lsh, minhash objects\n",
    "    \"\"\"\n",
    "\n",
    "    lsh = MinHashLSH(threshold=threshold, num_perm=num_perm, weights=weights)\n",
    "\n",
    "    # Create MinHash objects\n",
    "    minhashes = {}\n",
    "\n",
    "    for c, i in enumerate(df_column):\n",
    "        minhash = MinHash(num_perm=num_perm)\n",
    "\n",
    "        for d in ngrams(i, nr_ngrams):\n",
    "            minhash.update(\"\".join(d).encode('utf-8'))\n",
    "        lsh.insert(c, minhash)\n",
    "        minhashes[c] = minhash\n",
    "\n",
    "    return lsh, minhashes"
   ]
  },
  {
   "cell_type": "code",
   "execution_count": 6,
   "id": "39dc819c",
   "metadata": {},
   "outputs": [],
   "source": [
    "def query_lsh(df, minhashes, lsh):\n",
    "    \"\"\"\n",
    "    Queries records in df and if it finds a match appends to a new df. Giving the MinHash of the query set, \n",
    "    retrieve the keys that references sets with Jaccard similarities greater than the threshold.\n",
    "    :param df: dataframe with Disney characters\n",
    "    :param minhashes: minhashes of the name column\n",
    "    :param lsh: lsh of the name column\n",
    "    :return: df_matches: df with pairs of matched records\n",
    "    \"\"\"\n",
    "\n",
    "    df_matches = pd.DataFrame(columns=['id', 'local_name', 'english_name', 'match_id', 'match_local_name', \n",
    "                                       'match_english_name'])\n",
    "\n",
    "    for i in range(len(df)):\n",
    "        result = lsh.query(minhashes[i])\n",
    "        result = [element for element in result if element is not i]\n",
    "\n",
    "        if len(result) > 0:\n",
    "            df_i = pd.DataFrame()\n",
    "            df_i['id'] = df.id[result]\n",
    "            df_i['local_name'] = df.local_name[result]\n",
    "            df_i['english_name'] = df.english_name[result]\n",
    "            df_i['match_id'] = df.id[i]\n",
    "            df_i['match_local_name'] = df.local_name[i]\n",
    "            df_i['match_english_name'] = df.english_name[i]\n",
    "\n",
    "            df_matches = df_matches.append(df_i)\n",
    "\n",
    "    return df_matches"
   ]
  },
  {
   "cell_type": "code",
   "execution_count": 76,
   "id": "205ce47c",
   "metadata": {},
   "outputs": [],
   "source": [
    "def lsh_match_name(df, threshold, num_perm, weights, nr_ngrams):\n",
    "    \"\"\"\n",
    "    Creates minhashes on Disney character names. Using LSH returns pairs of matched names. \n",
    "    :param df: dataframe with Disney characters\n",
    "    :param threshold: Jaccard distance threshold\n",
    "    :param num_perm: number of permuntations\n",
    "    :param weights: false positive and false negative weights\n",
    "    :param nr_ngrams: shingle size\n",
    "    :return:\n",
    "    \"\"\"\n",
    "\n",
    "    logger = logging.getLogger(__name__ + '.lsh_match_name')\n",
    "    logger.debug(\"Creating minhashes...\")\n",
    "\n",
    "    lsh, minhashes = minhash_data(df.local_name_clean, threshold=threshold, num_perm=num_perm, weights=weights, \n",
    "                                  nr_ngrams=nr_ngrams)\n",
    "\n",
    "    logger.debug(\"Querying minhashes...\")\n",
    "    df_name = query_lsh(df, minhashes, lsh)\n",
    "    \n",
    "    df_name = df_name[df_name.id != df_name.match_id]\n",
    "\n",
    "    return df_name"
   ]
  },
  {
   "cell_type": "markdown",
   "id": "967e4888",
   "metadata": {},
   "source": [
    "### Read data"
   ]
  },
  {
   "cell_type": "code",
   "execution_count": 8,
   "id": "d21eafac",
   "metadata": {},
   "outputs": [
    {
     "data": {
      "text/html": [
       "<div>\n",
       "<style scoped>\n",
       "    .dataframe tbody tr th:only-of-type {\n",
       "        vertical-align: middle;\n",
       "    }\n",
       "\n",
       "    .dataframe tbody tr th {\n",
       "        vertical-align: top;\n",
       "    }\n",
       "\n",
       "    .dataframe thead th {\n",
       "        text-align: right;\n",
       "    }\n",
       "</style>\n",
       "<table border=\"1\" class=\"dataframe\">\n",
       "  <thead>\n",
       "    <tr style=\"text-align: right;\">\n",
       "      <th></th>\n",
       "      <th>id</th>\n",
       "      <th>language</th>\n",
       "      <th>english_name</th>\n",
       "      <th>local_name</th>\n",
       "    </tr>\n",
       "  </thead>\n",
       "  <tbody>\n",
       "    <tr>\n",
       "      <th>0</th>\n",
       "      <td>1</td>\n",
       "      <td>Danish</td>\n",
       "      <td>April, May, and June</td>\n",
       "      <td>Kylle, Pylle og Rylle</td>\n",
       "    </tr>\n",
       "    <tr>\n",
       "      <th>1</th>\n",
       "      <td>2</td>\n",
       "      <td>Danish</td>\n",
       "      <td>Beagle Boys</td>\n",
       "      <td>Bjørnebanden</td>\n",
       "    </tr>\n",
       "    <tr>\n",
       "      <th>2</th>\n",
       "      <td>3</td>\n",
       "      <td>Danish</td>\n",
       "      <td>Big Bad Wolf</td>\n",
       "      <td>Store stygge ulv</td>\n",
       "    </tr>\n",
       "    <tr>\n",
       "      <th>3</th>\n",
       "      <td>4</td>\n",
       "      <td>Danish</td>\n",
       "      <td>Black Pete</td>\n",
       "      <td>Sorteper</td>\n",
       "    </tr>\n",
       "    <tr>\n",
       "      <th>4</th>\n",
       "      <td>5</td>\n",
       "      <td>Danish</td>\n",
       "      <td>Chip 'n Dale</td>\n",
       "      <td>Chip og Chap</td>\n",
       "    </tr>\n",
       "  </tbody>\n",
       "</table>\n",
       "</div>"
      ],
      "text/plain": [
       "   id language          english_name              local_name\n",
       "0   1   Danish  April, May, and June   Kylle, Pylle og Rylle\n",
       "1   2   Danish           Beagle Boys            Bjørnebanden\n",
       "2   3   Danish          Big Bad Wolf        Store stygge ulv\n",
       "3   4   Danish            Black Pete                Sorteper\n",
       "4   5   Danish          Chip 'n Dale            Chip og Chap"
      ]
     },
     "execution_count": 8,
     "metadata": {},
     "output_type": "execute_result"
    }
   ],
   "source": [
    "df = load_data()\n",
    "df.head()"
   ]
  },
  {
   "cell_type": "code",
   "execution_count": 36,
   "id": "6fc4ea36",
   "metadata": {},
   "outputs": [
    {
     "data": {
      "text/plain": [
       "Donald Duck       20\n",
       "Beagle Boys       20\n",
       "Gyro Gearloose    20\n",
       "Mickey Mouse      20\n",
       "Minnie Mouse      19\n",
       "Name: english_name, dtype: int64"
      ]
     },
     "execution_count": 36,
     "metadata": {},
     "output_type": "execute_result"
    }
   ],
   "source": [
    "df.english_name.value_counts().head()"
   ]
  },
  {
   "cell_type": "code",
   "execution_count": 37,
   "id": "f5ed63b1",
   "metadata": {},
   "outputs": [
    {
     "data": {
      "text/plain": [
       " Pluto           14\n",
       " Daisy            4\n",
       " Mickey Mouse     4\n",
       " Goofy            4\n",
       " Minnie Mouse     3\n",
       "Name: local_name, dtype: int64"
      ]
     },
     "execution_count": 37,
     "metadata": {},
     "output_type": "execute_result"
    }
   ],
   "source": [
    "df.local_name.value_counts().head(5)"
   ]
  },
  {
   "cell_type": "markdown",
   "id": "cf9bb41c",
   "metadata": {},
   "source": [
    "### Clean data"
   ]
  },
  {
   "cell_type": "markdown",
   "id": "d597fbcc",
   "metadata": {},
   "source": [
    "- delete non alpha characters\n",
    "- convert to lower case"
   ]
  },
  {
   "cell_type": "code",
   "execution_count": 11,
   "id": "5d1722ef",
   "metadata": {},
   "outputs": [
    {
     "name": "stderr",
     "output_type": "stream",
     "text": [
      "2021-06-17 09:28:35,509 - INFO - __main__.clean_data - Cleaning done after 0.0 s\n"
     ]
    },
    {
     "data": {
      "text/html": [
       "<div>\n",
       "<style scoped>\n",
       "    .dataframe tbody tr th:only-of-type {\n",
       "        vertical-align: middle;\n",
       "    }\n",
       "\n",
       "    .dataframe tbody tr th {\n",
       "        vertical-align: top;\n",
       "    }\n",
       "\n",
       "    .dataframe thead th {\n",
       "        text-align: right;\n",
       "    }\n",
       "</style>\n",
       "<table border=\"1\" class=\"dataframe\">\n",
       "  <thead>\n",
       "    <tr style=\"text-align: right;\">\n",
       "      <th></th>\n",
       "      <th>id</th>\n",
       "      <th>language</th>\n",
       "      <th>english_name</th>\n",
       "      <th>local_name</th>\n",
       "      <th>local_name_clean</th>\n",
       "    </tr>\n",
       "  </thead>\n",
       "  <tbody>\n",
       "    <tr>\n",
       "      <th>0</th>\n",
       "      <td>1</td>\n",
       "      <td>Danish</td>\n",
       "      <td>April, May, and June</td>\n",
       "      <td>Kylle, Pylle og Rylle</td>\n",
       "      <td>kyllepylleogrylle</td>\n",
       "    </tr>\n",
       "    <tr>\n",
       "      <th>1</th>\n",
       "      <td>2</td>\n",
       "      <td>Danish</td>\n",
       "      <td>Beagle Boys</td>\n",
       "      <td>Bjørnebanden</td>\n",
       "      <td>bjrnebanden</td>\n",
       "    </tr>\n",
       "    <tr>\n",
       "      <th>2</th>\n",
       "      <td>3</td>\n",
       "      <td>Danish</td>\n",
       "      <td>Big Bad Wolf</td>\n",
       "      <td>Store stygge ulv</td>\n",
       "      <td>storestyggeulv</td>\n",
       "    </tr>\n",
       "    <tr>\n",
       "      <th>3</th>\n",
       "      <td>4</td>\n",
       "      <td>Danish</td>\n",
       "      <td>Black Pete</td>\n",
       "      <td>Sorteper</td>\n",
       "      <td>sorteper</td>\n",
       "    </tr>\n",
       "    <tr>\n",
       "      <th>4</th>\n",
       "      <td>5</td>\n",
       "      <td>Danish</td>\n",
       "      <td>Chip 'n Dale</td>\n",
       "      <td>Chip og Chap</td>\n",
       "      <td>chipogchap</td>\n",
       "    </tr>\n",
       "  </tbody>\n",
       "</table>\n",
       "</div>"
      ],
      "text/plain": [
       "   id language          english_name              local_name  \\\n",
       "0   1   Danish  April, May, and June   Kylle, Pylle og Rylle   \n",
       "1   2   Danish           Beagle Boys            Bjørnebanden   \n",
       "2   3   Danish          Big Bad Wolf        Store stygge ulv   \n",
       "3   4   Danish            Black Pete                Sorteper   \n",
       "4   5   Danish          Chip 'n Dale            Chip og Chap   \n",
       "\n",
       "    local_name_clean  \n",
       "0  kyllepylleogrylle  \n",
       "1        bjrnebanden  \n",
       "2     storestyggeulv  \n",
       "3           sorteper  \n",
       "4         chipogchap  "
      ]
     },
     "execution_count": 11,
     "metadata": {},
     "output_type": "execute_result"
    }
   ],
   "source": [
    "clean_data(df)\n",
    "df.head()"
   ]
  },
  {
   "cell_type": "markdown",
   "id": "bee76d14",
   "metadata": {},
   "source": [
    "### LSH"
   ]
  },
  {
   "cell_type": "code",
   "execution_count": 69,
   "id": "b6dbaf90",
   "metadata": {},
   "outputs": [],
   "source": [
    "# parameters\n",
    "threshold = 0.5\n",
    "num_perm = 120\n",
    "weights = (0.5, 0.5)\n",
    "nr_ngrams = 4"
   ]
  },
  {
   "cell_type": "code",
   "execution_count": 70,
   "id": "11e15c87",
   "metadata": {},
   "outputs": [
    {
     "name": "stderr",
     "output_type": "stream",
     "text": [
      "2021-06-17 09:53:20,851 - INFO - __main__.lsh_match_name - Creating minhashes...\n",
      "2021-06-17 09:53:21,580 - INFO - __main__.lsh_match_name - Querying minhashes...\n"
     ]
    }
   ],
   "source": [
    "# run matching\n",
    "matched_df = lsh_match_name(df, threshold, num_perm, weights, nr_ngrams)\n",
    "matched_df['is_match'] = np.where(matched_df.english_name == matched_df.match_english_name, True, False)"
   ]
  },
  {
   "cell_type": "code",
   "execution_count": 71,
   "id": "ccbfc5b4",
   "metadata": {},
   "outputs": [
    {
     "data": {
      "text/html": [
       "<div>\n",
       "<style scoped>\n",
       "    .dataframe tbody tr th:only-of-type {\n",
       "        vertical-align: middle;\n",
       "    }\n",
       "\n",
       "    .dataframe tbody tr th {\n",
       "        vertical-align: top;\n",
       "    }\n",
       "\n",
       "    .dataframe thead th {\n",
       "        text-align: right;\n",
       "    }\n",
       "</style>\n",
       "<table border=\"1\" class=\"dataframe\">\n",
       "  <thead>\n",
       "    <tr style=\"text-align: right;\">\n",
       "      <th></th>\n",
       "      <th>id</th>\n",
       "      <th>local_name</th>\n",
       "      <th>english_name</th>\n",
       "      <th>match_id</th>\n",
       "      <th>match_local_name</th>\n",
       "      <th>match_english_name</th>\n",
       "      <th>is_match</th>\n",
       "    </tr>\n",
       "  </thead>\n",
       "  <tbody>\n",
       "    <tr>\n",
       "      <th>373</th>\n",
       "      <td>374</td>\n",
       "      <td>Andeby</td>\n",
       "      <td>Duckburg</td>\n",
       "      <td>12</td>\n",
       "      <td>Andeby</td>\n",
       "      <td>Duckburg</td>\n",
       "      <td>True</td>\n",
       "    </tr>\n",
       "    <tr>\n",
       "      <th>387</th>\n",
       "      <td>388</td>\n",
       "      <td>Madam Mim</td>\n",
       "      <td>Mad Madam Mim</td>\n",
       "      <td>24</td>\n",
       "      <td>Madam Mim</td>\n",
       "      <td>Mad Madam Mim</td>\n",
       "      <td>True</td>\n",
       "    </tr>\n",
       "    <tr>\n",
       "      <th>183</th>\n",
       "      <td>184</td>\n",
       "      <td>Madam Mim</td>\n",
       "      <td>Mad Madam Mim</td>\n",
       "      <td>24</td>\n",
       "      <td>Madam Mim</td>\n",
       "      <td>Mad Madam Mim</td>\n",
       "      <td>True</td>\n",
       "    </tr>\n",
       "    <tr>\n",
       "      <th>546</th>\n",
       "      <td>547</td>\n",
       "      <td>Mickey Mouse</td>\n",
       "      <td>Mickey Mouse</td>\n",
       "      <td>25</td>\n",
       "      <td>Mickey Mouse</td>\n",
       "      <td>Mickey Mouse</td>\n",
       "      <td>True</td>\n",
       "    </tr>\n",
       "    <tr>\n",
       "      <th>61</th>\n",
       "      <td>62</td>\n",
       "      <td>Mickey Mouse</td>\n",
       "      <td>Mickey Mouse</td>\n",
       "      <td>25</td>\n",
       "      <td>Mickey Mouse</td>\n",
       "      <td>Mickey Mouse</td>\n",
       "      <td>True</td>\n",
       "    </tr>\n",
       "  </tbody>\n",
       "</table>\n",
       "</div>"
      ],
      "text/plain": [
       "      id     local_name   english_name match_id match_local_name  \\\n",
       "373  374         Andeby       Duckburg       12           Andeby   \n",
       "387  388      Madam Mim  Mad Madam Mim       24        Madam Mim   \n",
       "183  184      Madam Mim  Mad Madam Mim       24        Madam Mim   \n",
       "546  547   Mickey Mouse   Mickey Mouse       25     Mickey Mouse   \n",
       "61    62   Mickey Mouse   Mickey Mouse       25     Mickey Mouse   \n",
       "\n",
       "    match_english_name  is_match  \n",
       "373           Duckburg      True  \n",
       "387      Mad Madam Mim      True  \n",
       "183      Mad Madam Mim      True  \n",
       "546       Mickey Mouse      True  \n",
       "61        Mickey Mouse      True  "
      ]
     },
     "execution_count": 71,
     "metadata": {},
     "output_type": "execute_result"
    }
   ],
   "source": [
    "# sample of matched characters where they are actually identical\n",
    "matched_df[matched_df.is_match].head()"
   ]
  },
  {
   "cell_type": "code",
   "execution_count": 72,
   "id": "84f05792",
   "metadata": {},
   "outputs": [
    {
     "data": {
      "text/html": [
       "<div>\n",
       "<style scoped>\n",
       "    .dataframe tbody tr th:only-of-type {\n",
       "        vertical-align: middle;\n",
       "    }\n",
       "\n",
       "    .dataframe tbody tr th {\n",
       "        vertical-align: top;\n",
       "    }\n",
       "\n",
       "    .dataframe thead th {\n",
       "        text-align: right;\n",
       "    }\n",
       "</style>\n",
       "<table border=\"1\" class=\"dataframe\">\n",
       "  <thead>\n",
       "    <tr style=\"text-align: right;\">\n",
       "      <th></th>\n",
       "      <th>id</th>\n",
       "      <th>local_name</th>\n",
       "      <th>english_name</th>\n",
       "      <th>match_id</th>\n",
       "      <th>match_local_name</th>\n",
       "      <th>match_english_name</th>\n",
       "      <th>is_match</th>\n",
       "    </tr>\n",
       "  </thead>\n",
       "  <tbody>\n",
       "    <tr>\n",
       "      <th>346</th>\n",
       "      <td>347</td>\n",
       "      <td>Edi</td>\n",
       "      <td>Little Helper</td>\n",
       "      <td>141</td>\n",
       "      <td>Gus</td>\n",
       "      <td>Gus Goose</td>\n",
       "      <td>False</td>\n",
       "    </tr>\n",
       "    <tr>\n",
       "      <th>460</th>\n",
       "      <td>461</td>\n",
       "      <td>00-Zéro</td>\n",
       "      <td>Double-O Duck</td>\n",
       "      <td>141</td>\n",
       "      <td>Gus</td>\n",
       "      <td>Gus Goose</td>\n",
       "      <td>False</td>\n",
       "    </tr>\n",
       "    <tr>\n",
       "      <th>277</th>\n",
       "      <td>278</td>\n",
       "      <td>Plútó</td>\n",
       "      <td>Pluto</td>\n",
       "      <td>141</td>\n",
       "      <td>Gus</td>\n",
       "      <td>Gus Goose</td>\n",
       "      <td>False</td>\n",
       "    </tr>\n",
       "    <tr>\n",
       "      <th>155</th>\n",
       "      <td>156</td>\n",
       "      <td>Gevatter Fuchs</td>\n",
       "      <td>Br'er Fox</td>\n",
       "      <td>155</td>\n",
       "      <td>Gevatter Bär</td>\n",
       "      <td>Br'er Bear</td>\n",
       "      <td>False</td>\n",
       "    </tr>\n",
       "    <tr>\n",
       "      <th>154</th>\n",
       "      <td>155</td>\n",
       "      <td>Gevatter Bär</td>\n",
       "      <td>Br'er Bear</td>\n",
       "      <td>156</td>\n",
       "      <td>Gevatter Fuchs</td>\n",
       "      <td>Br'er Fox</td>\n",
       "      <td>False</td>\n",
       "    </tr>\n",
       "  </tbody>\n",
       "</table>\n",
       "</div>"
      ],
      "text/plain": [
       "      id       local_name   english_name match_id match_local_name  \\\n",
       "346  347              Edi  Little Helper      141              Gus   \n",
       "460  461          00-Zéro  Double-O Duck      141              Gus   \n",
       "277  278            Plútó          Pluto      141              Gus   \n",
       "155  156   Gevatter Fuchs      Br'er Fox      155     Gevatter Bär   \n",
       "154  155     Gevatter Bär     Br'er Bear      156   Gevatter Fuchs   \n",
       "\n",
       "    match_english_name  is_match  \n",
       "346          Gus Goose     False  \n",
       "460          Gus Goose     False  \n",
       "277          Gus Goose     False  \n",
       "155         Br'er Bear     False  \n",
       "154          Br'er Fox     False  "
      ]
     },
     "execution_count": 72,
     "metadata": {},
     "output_type": "execute_result"
    }
   ],
   "source": [
    "# sample of matched characters where they are actually NOT identical - false positives\n",
    "matched_df[~matched_df.is_match].head()"
   ]
  },
  {
   "cell_type": "markdown",
   "id": "e86d4c6a",
   "metadata": {},
   "source": [
    "### Comparison to exact matches"
   ]
  },
  {
   "cell_type": "code",
   "execution_count": 73,
   "id": "9aefa922",
   "metadata": {},
   "outputs": [
    {
     "name": "stdout",
     "output_type": "stream",
     "text": [
      "Number of matches using english name: 7336\n",
      "Number of matches using cleaned local name: 270\n",
      "Number of matches using LSH: 534, false positives: 32\n"
     ]
    }
   ],
   "source": [
    "# matches on english name\n",
    "df_english_merge = df.merge(df, on='english_name')\n",
    "df_english_merge = df_english_merge[df_english_merge.id_x != df_english_merge.id_y]\n",
    "\n",
    "# matches on local name\n",
    "df_local_merge = df.merge(df, on='local_name')\n",
    "df_local_merge = df_local_merge[df_local_merge.id_x != df_local_merge.id_y]\n",
    "\n",
    "# report\n",
    "print(f\"Number of matches using english name: {df_english_merge.shape[0]}\")\n",
    "print(f\"Number of matches using cleaned local name: {df_local_merge.shape[0]}\")\n",
    "print(f\"Number of matches using LSH: {matched_df.shape[0]}, false positives: {matched_df[~matched_df.is_match].shape[0]}\")"
   ]
  },
  {
   "cell_type": "code",
   "execution_count": 74,
   "id": "a4002627",
   "metadata": {},
   "outputs": [
    {
     "name": "stdout",
     "output_type": "stream",
     "text": [
      "Precision: 0.94\n",
      "Recall: 0.07\n"
     ]
    }
   ],
   "source": [
    "print(f\"Precision: {round(matched_df[matched_df.is_match].shape[0] / matched_df.shape[0], 2)}\")\n",
    "print(f\"Recall: {round(matched_df[matched_df.is_match].shape[0] / df_english_merge.shape[0], 2)}\")"
   ]
  },
  {
   "cell_type": "code",
   "execution_count": 86,
   "id": "ff83d163",
   "metadata": {},
   "outputs": [
    {
     "name": "stdout",
     "output_type": "stream",
     "text": [
      "--------------------\n",
      "Params: nr ngrams: 2, threshold: 0.5, num_perm: 100\n",
      "Precision: 0.77, Recall: 0.09, Time: 2.46 s\n",
      "--------------------\n",
      "Params: nr ngrams: 2, threshold: 0.5, num_perm: 120\n",
      "Precision: 0.76, Recall: 0.09, Time: 2.55 s\n",
      "--------------------\n",
      "Params: nr ngrams: 2, threshold: 0.5, num_perm: 400\n",
      "Precision: 0.9, Recall: 0.09, Time: 3.85 s\n",
      "--------------------\n",
      "Params: nr ngrams: 2, threshold: 0.7, num_perm: 100\n",
      "Precision: 0.95, Recall: 0.06, Time: 2.41 s\n",
      "--------------------\n",
      "Params: nr ngrams: 2, threshold: 0.7, num_perm: 120\n",
      "Precision: 0.96, Recall: 0.06, Time: 2.57 s\n",
      "--------------------\n",
      "Params: nr ngrams: 2, threshold: 0.7, num_perm: 400\n",
      "Precision: 0.96, Recall: 0.07, Time: 3.75 s\n",
      "--------------------\n",
      "Params: nr ngrams: 2, threshold: 0.9, num_perm: 100\n",
      "Precision: 1.0, Recall: 0.04, Time: 2.36 s\n",
      "--------------------\n",
      "Params: nr ngrams: 2, threshold: 0.9, num_perm: 120\n",
      "Precision: 1.0, Recall: 0.04, Time: 2.42 s\n",
      "--------------------\n",
      "Params: nr ngrams: 2, threshold: 0.9, num_perm: 400\n",
      "Precision: 1.0, Recall: 0.05, Time: 3.46 s\n",
      "--------------------\n",
      "Params: nr ngrams: 4, threshold: 0.5, num_perm: 100\n",
      "Precision: 0.94, Recall: 0.07, Time: 2.39 s\n",
      "--------------------\n",
      "Params: nr ngrams: 4, threshold: 0.5, num_perm: 120\n",
      "Precision: 0.94, Recall: 0.07, Time: 2.54 s\n",
      "--------------------\n",
      "Params: nr ngrams: 4, threshold: 0.5, num_perm: 400\n",
      "Precision: 0.95, Recall: 0.07, Time: 3.76 s\n",
      "--------------------\n",
      "Params: nr ngrams: 4, threshold: 0.7, num_perm: 100\n",
      "Precision: 0.96, Recall: 0.05, Time: 2.38 s\n",
      "--------------------\n",
      "Params: nr ngrams: 4, threshold: 0.7, num_perm: 120\n",
      "Precision: 0.96, Recall: 0.05, Time: 2.3 s\n",
      "--------------------\n",
      "Params: nr ngrams: 4, threshold: 0.7, num_perm: 400\n",
      "Precision: 0.96, Recall: 0.05, Time: 3.49 s\n",
      "--------------------\n",
      "Params: nr ngrams: 4, threshold: 0.9, num_perm: 100\n",
      "Precision: 0.96, Recall: 0.04, Time: 2.4 s\n",
      "--------------------\n",
      "Params: nr ngrams: 4, threshold: 0.9, num_perm: 120\n",
      "Precision: 0.96, Recall: 0.04, Time: 2.62 s\n",
      "--------------------\n",
      "Params: nr ngrams: 4, threshold: 0.9, num_perm: 400\n",
      "Precision: 0.96, Recall: 0.04, Time: 3.84 s\n",
      "--------------------\n",
      "Params: nr ngrams: 6, threshold: 0.5, num_perm: 100\n",
      "Precision: 0.15, Recall: 0.07, Time: 2.51 s\n",
      "--------------------\n",
      "Params: nr ngrams: 6, threshold: 0.5, num_perm: 120\n",
      "Precision: 0.15, Recall: 0.07, Time: 2.61 s\n",
      "--------------------\n",
      "Params: nr ngrams: 6, threshold: 0.5, num_perm: 400\n",
      "Precision: 0.15, Recall: 0.07, Time: 4.22 s\n",
      "--------------------\n",
      "Params: nr ngrams: 6, threshold: 0.7, num_perm: 100\n",
      "Precision: 0.14, Recall: 0.06, Time: 2.49 s\n",
      "--------------------\n",
      "Params: nr ngrams: 6, threshold: 0.7, num_perm: 120\n",
      "Precision: 0.14, Recall: 0.06, Time: 3.39 s\n",
      "--------------------\n",
      "Params: nr ngrams: 6, threshold: 0.7, num_perm: 400\n",
      "Precision: 0.14, Recall: 0.07, Time: 4.87 s\n",
      "--------------------\n",
      "Params: nr ngrams: 6, threshold: 0.9, num_perm: 100\n",
      "Precision: 0.13, Recall: 0.06, Time: 2.79 s\n",
      "--------------------\n",
      "Params: nr ngrams: 6, threshold: 0.9, num_perm: 120\n",
      "Precision: 0.13, Recall: 0.06, Time: 3.56 s\n",
      "--------------------\n",
      "Params: nr ngrams: 6, threshold: 0.9, num_perm: 400\n",
      "Precision: 0.13, Recall: 0.06, Time: 4.65 s\n"
     ]
    }
   ],
   "source": [
    "weights = (0.5, 0.5)\n",
    "\n",
    "for nr_ngrams in [2,4,6]:\n",
    "    for threshold in [0.5, 0.7, 0.9]:\n",
    "        for num_perm in [100, 120, 400]:\n",
    "            \n",
    "            starttime = timeit.default_timer()\n",
    "\n",
    "            matched_df = lsh_match_name(df, threshold, num_perm, weights, nr_ngrams)\n",
    "            matched_df['is_match'] = np.where(matched_df.english_name == matched_df.match_english_name, True, False)\n",
    "            print(\"--------------------\")\n",
    "            print(f\"Params: nr ngrams: {nr_ngrams}, threshold: {threshold}, num_perm: {num_perm}\")\n",
    "            print(f\"\"\"Precision: {round(matched_df[matched_df.is_match].shape[0] / matched_df.shape[0], 2)}, Recall: {round(matched_df[matched_df.is_match].shape[0] / df_english_merge.shape[0], 2)}, Time: {round(timeit.default_timer() - starttime, 2)} s\"\"\")"
   ]
  },
  {
   "cell_type": "code",
   "execution_count": null,
   "id": "ae3d9f9e",
   "metadata": {},
   "outputs": [],
   "source": []
  }
 ],
 "metadata": {
  "kernelspec": {
   "display_name": "voucher-abuse-query",
   "language": "python",
   "name": "voucher-abuse-query"
  },
  "language_info": {
   "codemirror_mode": {
    "name": "ipython",
    "version": 3
   },
   "file_extension": ".py",
   "mimetype": "text/x-python",
   "name": "python",
   "nbconvert_exporter": "python",
   "pygments_lexer": "ipython3",
   "version": "3.8.8"
  }
 },
 "nbformat": 4,
 "nbformat_minor": 5
}
