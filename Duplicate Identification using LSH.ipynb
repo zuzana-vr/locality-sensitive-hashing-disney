{
 "cells": [
  {
   "cell_type": "markdown",
   "id": "b38f7573",
   "metadata": {},
   "source": [
    "## LSH For Disney Names Matching"
   ]
  },
  {
   "cell_type": "markdown",
   "id": "79869bfb",
   "metadata": {},
   "source": [
    "### Functions"
   ]
  },
  {
   "cell_type": "code",
   "execution_count": 1,
   "id": "6d07d311",
   "metadata": {},
   "outputs": [],
   "source": [
    "import logging\n",
    "import pandas as pd\n",
    "import argparse\n",
    "import timeit\n",
    "from datasketch import MinHash, MinHashLSH\n",
    "from nltk import ngrams\n",
    "from datetime import date, timedelta\n",
    "import numpy as np"
   ]
  },
  {
   "cell_type": "code",
   "execution_count": 2,
   "id": "5da09e9c",
   "metadata": {},
   "outputs": [],
   "source": [
    "logging.basicConfig(level=logging.INFO, format='%(asctime)s - %(levelname)s - %(name)s - %(message)s')\n",
    "logger = logging.getLogger(__name__ + '.vaq')"
   ]
  },
  {
   "cell_type": "code",
   "execution_count": 3,
   "id": "c979f0b7",
   "metadata": {},
   "outputs": [],
   "source": [
    "def load_data():\n",
    "    \"\"\"\n",
    "    Reads data from Excel file\n",
    "    \"\"\"\n",
    "    df = pd.read_excel(\"disney_characters.xlsx\")\n",
    "    \n",
    "    return df"
   ]
  },
  {
   "cell_type": "code",
   "execution_count": 4,
   "id": "6671dd34",
   "metadata": {},
   "outputs": [],
   "source": [
    "def clean_data(df):\n",
    "    \"\"\"\n",
    "    Cleans up string columns. Names should only contain letters.\n",
    "    :param df: dataframe with Disney character names\n",
    "    \"\"\"\n",
    "\n",
    "    logger = logging.getLogger(__name__ + '.clean_data')\n",
    "\n",
    "    starttime = timeit.default_timer()\n",
    "\n",
    "    df['local_name_clean'] = df.local_name.str.replace('[^a-zA-Z]', '', regex=True).str.lower()\n",
    "   \n",
    "    logger.info(f\"Cleaning done after {round(timeit.default_timer() - starttime, 2)} s\")"
   ]
  },
  {
   "cell_type": "code",
   "execution_count": 5,
   "id": "62758488",
   "metadata": {},
   "outputs": [],
   "source": [
    "def minhash_data(df_column, threshold, num_perm, weights, nr_ngrams):\n",
    "    \"\"\"\n",
    "    Performs hashing of columns using MinHash\n",
    "    :param df_column: column to hash\n",
    "    :param threshold: Jaccard distance threshold\n",
    "    :param num_perm: number of permutations\n",
    "    :param weights: false positive and false negative weights\n",
    "    :param nr_ngrams: shingle size\n",
    "    :return: lsh, minhash objects\n",
    "    \"\"\"\n",
    "\n",
    "    lsh = MinHashLSH(threshold=threshold, num_perm=num_perm, weights=weights)\n",
    "\n",
    "    # Create MinHash objects\n",
    "    minhashes = {}\n",
    "\n",
    "    for c, i in enumerate(df_column):\n",
    "        minhash = MinHash(num_perm=num_perm)\n",
    "\n",
    "        for d in ngrams(i, nr_ngrams):\n",
    "            minhash.update(\"\".join(d).encode('utf-8'))\n",
    "        lsh.insert(c, minhash)\n",
    "        minhashes[c] = minhash\n",
    "\n",
    "    return lsh, minhashes"
   ]
  },
  {
   "cell_type": "code",
   "execution_count": 6,
   "id": "39dc819c",
   "metadata": {},
   "outputs": [],
   "source": [
    "def query_lsh(df, minhashes, lsh):\n",
    "    \"\"\"\n",
    "    Queries records in df and if it finds a match appends to a new df. Giving the MinHash of the query set, \n",
    "    retrieve the keys that references sets with Jaccard similarities greater than the threshold.\n",
    "    :param df: dataframe with Disney characters\n",
    "    :param minhashes: minhashes of the name column\n",
    "    :param lsh: lsh of the name column\n",
    "    :return: df_matches: df with pairs of matched records\n",
    "    \"\"\"\n",
    "\n",
    "    df_matches = pd.DataFrame(columns=['id', 'local_name', 'english_name', 'match_id', 'match_local_name', \n",
    "                                       'match_english_name'])\n",
    "\n",
    "    for i in range(len(df)):\n",
    "        result = lsh.query(minhashes[i])\n",
    "        result = [element for element in result if element is not i]\n",
    "\n",
    "        if len(result) > 0:\n",
    "            df_i = pd.DataFrame()\n",
    "            df_i['id'] = df.id[result]\n",
    "            df_i['local_name'] = df.local_name[result]\n",
    "            df_i['english_name'] = df.english_name[result]\n",
    "            df_i['match_id'] = df.id[i]\n",
    "            df_i['match_local_name'] = df.local_name[i]\n",
    "            df_i['match_english_name'] = df.english_name[i]\n",
    "\n",
    "            df_matches = df_matches.append(df_i)\n",
    "\n",
    "    return df_matches"
   ]
  },
  {
   "cell_type": "code",
   "execution_count": 7,
   "id": "205ce47c",
   "metadata": {},
   "outputs": [],
   "source": [
    "def lsh_match_name(df, threshold, num_perm, weights, nr_ngrams):\n",
    "    \"\"\"\n",
    "    Creates minhashes on Disney character names. Using LSH returns pairs of matched names. \n",
    "    :param df: dataframe with Disney characters\n",
    "    :param threshold: Jaccard distance threshold\n",
    "    :param num_perm: number of permuntations\n",
    "    :param weights: false positive and false negative weights\n",
    "    :param nr_ngrams: shingle size\n",
    "    :return:\n",
    "    \"\"\"\n",
    "\n",
    "    logger = logging.getLogger(__name__ + '.lsh_match_name')\n",
    "    logger.info(\"Creating minhashes...\")\n",
    "\n",
    "    lsh, minhashes = minhash_data(df.local_name_clean, threshold=threshold, num_perm=num_perm, weights=weights, \n",
    "                                  nr_ngrams=nr_ngrams)\n",
    "\n",
    "    logger.info(\"Querying minhashes...\")\n",
    "    df_name = query_lsh(df, minhashes, lsh)\n",
    "    \n",
    "    df_name = df_name[df_name.id != df_name.match_id]\n",
    "\n",
    "    return df_name"
   ]
  },
  {
   "cell_type": "markdown",
   "id": "c9dc5390",
   "metadata": {},
   "source": [
    "### Read data"
   ]
  },
  {
   "cell_type": "code",
   "execution_count": 8,
   "id": "d21eafac",
   "metadata": {},
   "outputs": [
    {
     "data": {
      "text/html": [
       "<div>\n",
       "<style scoped>\n",
       "    .dataframe tbody tr th:only-of-type {\n",
       "        vertical-align: middle;\n",
       "    }\n",
       "\n",
       "    .dataframe tbody tr th {\n",
       "        vertical-align: top;\n",
       "    }\n",
       "\n",
       "    .dataframe thead th {\n",
       "        text-align: right;\n",
       "    }\n",
       "</style>\n",
       "<table border=\"1\" class=\"dataframe\">\n",
       "  <thead>\n",
       "    <tr style=\"text-align: right;\">\n",
       "      <th></th>\n",
       "      <th>id</th>\n",
       "      <th>language</th>\n",
       "      <th>english_name</th>\n",
       "      <th>local_name</th>\n",
       "    </tr>\n",
       "  </thead>\n",
       "  <tbody>\n",
       "    <tr>\n",
       "      <th>0</th>\n",
       "      <td>1</td>\n",
       "      <td>Danish</td>\n",
       "      <td>April, May, and June</td>\n",
       "      <td>Kylle, Pylle og Rylle</td>\n",
       "    </tr>\n",
       "    <tr>\n",
       "      <th>1</th>\n",
       "      <td>2</td>\n",
       "      <td>Danish</td>\n",
       "      <td>Beagle Boys</td>\n",
       "      <td>Bjørnebanden</td>\n",
       "    </tr>\n",
       "    <tr>\n",
       "      <th>2</th>\n",
       "      <td>3</td>\n",
       "      <td>Danish</td>\n",
       "      <td>Big Bad Wolf</td>\n",
       "      <td>Store stygge ulv</td>\n",
       "    </tr>\n",
       "    <tr>\n",
       "      <th>3</th>\n",
       "      <td>4</td>\n",
       "      <td>Danish</td>\n",
       "      <td>Black Pete</td>\n",
       "      <td>Sorteper</td>\n",
       "    </tr>\n",
       "    <tr>\n",
       "      <th>4</th>\n",
       "      <td>5</td>\n",
       "      <td>Danish</td>\n",
       "      <td>Chip 'n Dale</td>\n",
       "      <td>Chip og Chap</td>\n",
       "    </tr>\n",
       "  </tbody>\n",
       "</table>\n",
       "</div>"
      ],
      "text/plain": [
       "   id language          english_name              local_name\n",
       "0   1   Danish  April, May, and June   Kylle, Pylle og Rylle\n",
       "1   2   Danish           Beagle Boys            Bjørnebanden\n",
       "2   3   Danish          Big Bad Wolf        Store stygge ulv\n",
       "3   4   Danish            Black Pete                Sorteper\n",
       "4   5   Danish          Chip 'n Dale            Chip og Chap"
      ]
     },
     "execution_count": 8,
     "metadata": {},
     "output_type": "execute_result"
    }
   ],
   "source": [
    "df = load_data()\n",
    "df.head()"
   ]
  },
  {
   "cell_type": "code",
   "execution_count": 36,
   "id": "6fc4ea36",
   "metadata": {},
   "outputs": [
    {
     "data": {
      "text/plain": [
       "Donald Duck       20\n",
       "Beagle Boys       20\n",
       "Gyro Gearloose    20\n",
       "Mickey Mouse      20\n",
       "Minnie Mouse      19\n",
       "Name: english_name, dtype: int64"
      ]
     },
     "execution_count": 36,
     "metadata": {},
     "output_type": "execute_result"
    }
   ],
   "source": [
    "df.english_name.value_counts().head()"
   ]
  },
  {
   "cell_type": "code",
   "execution_count": 37,
   "id": "f5ed63b1",
   "metadata": {},
   "outputs": [
    {
     "data": {
      "text/plain": [
       " Pluto           14\n",
       " Daisy            4\n",
       " Mickey Mouse     4\n",
       " Goofy            4\n",
       " Minnie Mouse     3\n",
       "Name: local_name, dtype: int64"
      ]
     },
     "execution_count": 37,
     "metadata": {},
     "output_type": "execute_result"
    }
   ],
   "source": [
    "df.local_name.value_counts().head(5)"
   ]
  },
  {
   "cell_type": "markdown",
   "id": "ca45b3ed",
   "metadata": {},
   "source": [
    "### Clean data"
   ]
  },
  {
   "cell_type": "markdown",
   "id": "7cf0b860",
   "metadata": {},
   "source": [
    "- delete non alpha characters\n",
    "- convert to lower case"
   ]
  },
  {
   "cell_type": "code",
   "execution_count": 11,
   "id": "5d1722ef",
   "metadata": {},
   "outputs": [
    {
     "name": "stderr",
     "output_type": "stream",
     "text": [
      "2021-06-17 09:28:35,509 - INFO - __main__.clean_data - Cleaning done after 0.0 s\n"
     ]
    },
    {
     "data": {
      "text/html": [
       "<div>\n",
       "<style scoped>\n",
       "    .dataframe tbody tr th:only-of-type {\n",
       "        vertical-align: middle;\n",
       "    }\n",
       "\n",
       "    .dataframe tbody tr th {\n",
       "        vertical-align: top;\n",
       "    }\n",
       "\n",
       "    .dataframe thead th {\n",
       "        text-align: right;\n",
       "    }\n",
       "</style>\n",
       "<table border=\"1\" class=\"dataframe\">\n",
       "  <thead>\n",
       "    <tr style=\"text-align: right;\">\n",
       "      <th></th>\n",
       "      <th>id</th>\n",
       "      <th>language</th>\n",
       "      <th>english_name</th>\n",
       "      <th>local_name</th>\n",
       "      <th>local_name_clean</th>\n",
       "    </tr>\n",
       "  </thead>\n",
       "  <tbody>\n",
       "    <tr>\n",
       "      <th>0</th>\n",
       "      <td>1</td>\n",
       "      <td>Danish</td>\n",
       "      <td>April, May, and June</td>\n",
       "      <td>Kylle, Pylle og Rylle</td>\n",
       "      <td>kyllepylleogrylle</td>\n",
       "    </tr>\n",
       "    <tr>\n",
       "      <th>1</th>\n",
       "      <td>2</td>\n",
       "      <td>Danish</td>\n",
       "      <td>Beagle Boys</td>\n",
       "      <td>Bjørnebanden</td>\n",
       "      <td>bjrnebanden</td>\n",
       "    </tr>\n",
       "    <tr>\n",
       "      <th>2</th>\n",
       "      <td>3</td>\n",
       "      <td>Danish</td>\n",
       "      <td>Big Bad Wolf</td>\n",
       "      <td>Store stygge ulv</td>\n",
       "      <td>storestyggeulv</td>\n",
       "    </tr>\n",
       "    <tr>\n",
       "      <th>3</th>\n",
       "      <td>4</td>\n",
       "      <td>Danish</td>\n",
       "      <td>Black Pete</td>\n",
       "      <td>Sorteper</td>\n",
       "      <td>sorteper</td>\n",
       "    </tr>\n",
       "    <tr>\n",
       "      <th>4</th>\n",
       "      <td>5</td>\n",
       "      <td>Danish</td>\n",
       "      <td>Chip 'n Dale</td>\n",
       "      <td>Chip og Chap</td>\n",
       "      <td>chipogchap</td>\n",
       "    </tr>\n",
       "  </tbody>\n",
       "</table>\n",
       "</div>"
      ],
      "text/plain": [
       "   id language          english_name              local_name  \\\n",
       "0   1   Danish  April, May, and June   Kylle, Pylle og Rylle   \n",
       "1   2   Danish           Beagle Boys            Bjørnebanden   \n",
       "2   3   Danish          Big Bad Wolf        Store stygge ulv   \n",
       "3   4   Danish            Black Pete                Sorteper   \n",
       "4   5   Danish          Chip 'n Dale            Chip og Chap   \n",
       "\n",
       "    local_name_clean  \n",
       "0  kyllepylleogrylle  \n",
       "1        bjrnebanden  \n",
       "2     storestyggeulv  \n",
       "3           sorteper  \n",
       "4         chipogchap  "
      ]
     },
     "execution_count": 11,
     "metadata": {},
     "output_type": "execute_result"
    }
   ],
   "source": [
    "clean_data(df)\n",
    "df.head()"
   ]
  },
  {
   "cell_type": "markdown",
   "id": "2608c8fb",
   "metadata": {},
   "source": [
    "### LSH"
   ]
  },
  {
   "cell_type": "code",
   "execution_count": 12,
   "id": "b6dbaf90",
   "metadata": {},
   "outputs": [],
   "source": [
    "# parameters\n",
    "threshold = 0.7\n",
    "num_perm = 120\n",
    "weights = (0.5, 0.5)\n",
    "nr_ngrams = 2"
   ]
  },
  {
   "cell_type": "code",
   "execution_count": 13,
   "id": "11e15c87",
   "metadata": {},
   "outputs": [
    {
     "name": "stderr",
     "output_type": "stream",
     "text": [
      "2021-06-17 09:28:36,703 - INFO - __main__.lsh_match_name - Creating minhashes...\n",
      "2021-06-17 09:28:37,407 - INFO - __main__.lsh_match_name - Querying minhashes...\n"
     ]
    }
   ],
   "source": [
    "# run matching\n",
    "matched_df = lsh_match_name(df, threshold, num_perm, weights, nr_ngrams)\n",
    "matched_df['is_match'] = np.where(matched_df.english_name == matched_df.match_english_name, True, False)"
   ]
  },
  {
   "cell_type": "code",
   "execution_count": 35,
   "id": "ccbfc5b4",
   "metadata": {},
   "outputs": [
    {
     "data": {
      "text/html": [
       "<div>\n",
       "<style scoped>\n",
       "    .dataframe tbody tr th:only-of-type {\n",
       "        vertical-align: middle;\n",
       "    }\n",
       "\n",
       "    .dataframe tbody tr th {\n",
       "        vertical-align: top;\n",
       "    }\n",
       "\n",
       "    .dataframe thead th {\n",
       "        text-align: right;\n",
       "    }\n",
       "</style>\n",
       "<table border=\"1\" class=\"dataframe\">\n",
       "  <thead>\n",
       "    <tr style=\"text-align: right;\">\n",
       "      <th></th>\n",
       "      <th>id</th>\n",
       "      <th>local_name</th>\n",
       "      <th>english_name</th>\n",
       "      <th>match_id</th>\n",
       "      <th>match_local_name</th>\n",
       "      <th>match_english_name</th>\n",
       "      <th>is_match</th>\n",
       "    </tr>\n",
       "  </thead>\n",
       "  <tbody>\n",
       "    <tr>\n",
       "      <th>373</th>\n",
       "      <td>374</td>\n",
       "      <td>Andeby</td>\n",
       "      <td>Duckburg</td>\n",
       "      <td>12</td>\n",
       "      <td>Andeby</td>\n",
       "      <td>Duckburg</td>\n",
       "      <td>True</td>\n",
       "    </tr>\n",
       "    <tr>\n",
       "      <th>255</th>\n",
       "      <td>256</td>\n",
       "      <td>Ripp, Rapp og Rupp</td>\n",
       "      <td>Huey, Dewey and Louie</td>\n",
       "      <td>19</td>\n",
       "      <td>Rip, Rap og Rup</td>\n",
       "      <td>Huey, Dewey and Louie</td>\n",
       "      <td>True</td>\n",
       "    </tr>\n",
       "    <tr>\n",
       "      <th>384</th>\n",
       "      <td>385</td>\n",
       "      <td>Lille hjelper</td>\n",
       "      <td>Little Helper</td>\n",
       "      <td>21</td>\n",
       "      <td>Lille hjælper</td>\n",
       "      <td>Little Helper</td>\n",
       "      <td>True</td>\n",
       "    </tr>\n",
       "    <tr>\n",
       "      <th>387</th>\n",
       "      <td>388</td>\n",
       "      <td>Madam Mim</td>\n",
       "      <td>Mad Madam Mim</td>\n",
       "      <td>24</td>\n",
       "      <td>Madam Mim</td>\n",
       "      <td>Mad Madam Mim</td>\n",
       "      <td>True</td>\n",
       "    </tr>\n",
       "    <tr>\n",
       "      <th>269</th>\n",
       "      <td>270</td>\n",
       "      <td>Maddama Mimm</td>\n",
       "      <td>Mad Madam Mim</td>\n",
       "      <td>24</td>\n",
       "      <td>Madam Mim</td>\n",
       "      <td>Mad Madam Mim</td>\n",
       "      <td>True</td>\n",
       "    </tr>\n",
       "  </tbody>\n",
       "</table>\n",
       "</div>"
      ],
      "text/plain": [
       "      id           local_name           english_name match_id  \\\n",
       "373  374               Andeby               Duckburg       12   \n",
       "255  256   Ripp, Rapp og Rupp  Huey, Dewey and Louie       19   \n",
       "384  385        Lille hjelper          Little Helper       21   \n",
       "387  388            Madam Mim          Mad Madam Mim       24   \n",
       "269  270         Maddama Mimm          Mad Madam Mim       24   \n",
       "\n",
       "     match_local_name     match_english_name  is_match  \n",
       "373            Andeby               Duckburg      True  \n",
       "255   Rip, Rap og Rup  Huey, Dewey and Louie      True  \n",
       "384     Lille hjælper          Little Helper      True  \n",
       "387         Madam Mim          Mad Madam Mim      True  \n",
       "269         Madam Mim          Mad Madam Mim      True  "
      ]
     },
     "execution_count": 35,
     "metadata": {},
     "output_type": "execute_result"
    }
   ],
   "source": [
    "# sample of matched characters where they are actually identical\n",
    "matched_df[matched_df.is_match].head()"
   ]
  },
  {
   "cell_type": "code",
   "execution_count": 33,
   "id": "84f05792",
   "metadata": {},
   "outputs": [
    {
     "data": {
      "text/html": [
       "<div>\n",
       "<style scoped>\n",
       "    .dataframe tbody tr th:only-of-type {\n",
       "        vertical-align: middle;\n",
       "    }\n",
       "\n",
       "    .dataframe tbody tr th {\n",
       "        vertical-align: top;\n",
       "    }\n",
       "\n",
       "    .dataframe thead th {\n",
       "        text-align: right;\n",
       "    }\n",
       "</style>\n",
       "<table border=\"1\" class=\"dataframe\">\n",
       "  <thead>\n",
       "    <tr style=\"text-align: right;\">\n",
       "      <th></th>\n",
       "      <th>id</th>\n",
       "      <th>local_name</th>\n",
       "      <th>english_name</th>\n",
       "      <th>match_id</th>\n",
       "      <th>match_local_name</th>\n",
       "      <th>match_english_name</th>\n",
       "      <th>is_match</th>\n",
       "    </tr>\n",
       "  </thead>\n",
       "  <tbody>\n",
       "    <tr>\n",
       "      <th>298</th>\n",
       "      <td>299</td>\n",
       "      <td>Gufi</td>\n",
       "      <td>Goofy</td>\n",
       "      <td>17</td>\n",
       "      <td>Fætter Guf</td>\n",
       "      <td>Gus Goose</td>\n",
       "      <td>False</td>\n",
       "    </tr>\n",
       "    <tr>\n",
       "      <th>260</th>\n",
       "      <td>261</td>\n",
       "      <td>Guffi</td>\n",
       "      <td>Goofy</td>\n",
       "      <td>17</td>\n",
       "      <td>Fætter Guf</td>\n",
       "      <td>Gus Goose</td>\n",
       "      <td>False</td>\n",
       "    </tr>\n",
       "    <tr>\n",
       "      <th>582</th>\n",
       "      <td>583</td>\n",
       "      <td>Gustavo Ganso</td>\n",
       "      <td>Gus Goose</td>\n",
       "      <td>174</td>\n",
       "      <td>Gustav Gans</td>\n",
       "      <td>Gladstone Gander</td>\n",
       "      <td>False</td>\n",
       "    </tr>\n",
       "    <tr>\n",
       "      <th>331</th>\n",
       "      <td>332</td>\n",
       "      <td>Pennino</td>\n",
       "      <td>Dugan Duck</td>\n",
       "      <td>188</td>\n",
       "      <td>Minni Maus</td>\n",
       "      <td>Minnie Mouse</td>\n",
       "      <td>False</td>\n",
       "    </tr>\n",
       "    <tr>\n",
       "      <th>526</th>\n",
       "      <td>527</td>\n",
       "      <td>Magi</td>\n",
       "      <td>Magica De Spell</td>\n",
       "      <td>248</td>\n",
       "      <td>Maggi</td>\n",
       "      <td>Detective Casey</td>\n",
       "      <td>False</td>\n",
       "    </tr>\n",
       "  </tbody>\n",
       "</table>\n",
       "</div>"
      ],
      "text/plain": [
       "      id      local_name     english_name match_id match_local_name  \\\n",
       "298  299            Gufi            Goofy       17       Fætter Guf   \n",
       "260  261           Guffi            Goofy       17       Fætter Guf   \n",
       "582  583   Gustavo Ganso        Gus Goose      174      Gustav Gans   \n",
       "331  332         Pennino       Dugan Duck      188       Minni Maus   \n",
       "526  527            Magi  Magica De Spell      248            Maggi   \n",
       "\n",
       "    match_english_name  is_match  \n",
       "298          Gus Goose     False  \n",
       "260          Gus Goose     False  \n",
       "582   Gladstone Gander     False  \n",
       "331       Minnie Mouse     False  \n",
       "526    Detective Casey     False  "
      ]
     },
     "execution_count": 33,
     "metadata": {},
     "output_type": "execute_result"
    }
   ],
   "source": [
    "# sample of matched characters where they are actually NOT identical - false positives\n",
    "matched_df[~matched_df.is_match].head()"
   ]
  },
  {
   "cell_type": "markdown",
   "id": "ba872d69",
   "metadata": {},
   "source": [
    "### Comparison to exact matches"
   ]
  },
  {
   "cell_type": "code",
   "execution_count": 32,
   "id": "498c0f9e",
   "metadata": {},
   "outputs": [
    {
     "name": "stdout",
     "output_type": "stream",
     "text": [
      "Number of matches using english name: 7336\n",
      "Number of matches using cleaned local name: 270\n",
      "Number of matches using LSH: 492\n"
     ]
    }
   ],
   "source": [
    "# Compare LSH to exact matches\n",
    "df_english_merge = df.merge(df, on='english_name')\n",
    "df_english_merge = df_english_merge[df_english_merge.id_x != df_english_merge.id_y]\n",
    "\n",
    "df_local_merge = df.merge(df, on='local_name')\n",
    "df_local_merge = df_local_merge[df_local_merge.id_x != df_local_merge.id_y]\n",
    "\n",
    "print(f\"Number of matches using english name: {df_english_merge.shape[0]}\")\n",
    "print(f\"Number of matches using cleaned local name: {df_local_merge.shape[0]}\")\n",
    "print(f\"Number of matches using LSH: {matched_df.shape[0]}\")"
   ]
  }
 ],
 "metadata": {
  "kernelspec": {
   "display_name": "voucher-abuse-query",
   "language": "python",
   "name": "voucher-abuse-query"
  },
  "language_info": {
   "codemirror_mode": {
    "name": "ipython",
    "version": 3
   },
   "file_extension": ".py",
   "mimetype": "text/x-python",
   "name": "python",
   "nbconvert_exporter": "python",
   "pygments_lexer": "ipython3",
   "version": "3.8.8"
  }
 },
 "nbformat": 4,
 "nbformat_minor": 5
}
